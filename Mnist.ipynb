{
  "cells": [
    {
      "cell_type": "code",
      "source": [
        "from tensorflow.keras.datasets.mnist import load_data"
      ],
      "metadata": {
        "id": "GmsD2O2gjS5b"
      },
      "execution_count": 1,
      "outputs": []
    },
    {
      "cell_type": "code",
      "source": [
        "(X_train,y_train),(X_test,y_test)=load_data()"
      ],
      "metadata": {
        "id": "82ICBVMhjsXH"
      },
      "execution_count": 2,
      "outputs": []
    },
    {
      "cell_type": "code",
      "source": [
        "from matplotlib import pyplot as plt"
      ],
      "metadata": {
        "id": "9GnZVN2ikneR"
      },
      "execution_count": 3,
      "outputs": []
    },
    {
      "cell_type": "code",
      "source": [
        "plt.imshow(X_train[4000])\n",
        "print(y_train[4000])"
      ],
      "metadata": {
        "colab": {
          "base_uri": "https://localhost:8080/",
          "height": 282
        },
        "id": "j3JL2n-2kx-N",
        "outputId": "8749e173-cffb-444a-f8db-11a76324d3a1"
      },
      "execution_count": 4,
      "outputs": [
        {
          "output_type": "stream",
          "name": "stdout",
          "text": [
            "7\n"
          ]
        },
        {
          "output_type": "display_data",
          "data": {
            "text/plain": [
              "<Figure size 432x288 with 1 Axes>"
            ],
            "image/png": "[encoded data removed]"
          },
          "metadata": {
            "needs_background": "light"
          }
        }
      ]
    },
    {
      "cell_type": "code",
      "source": [
        "import numpy as np"
      ],
      "metadata": {
        "id": "3AllL9denJ7R"
      },
      "execution_count": 5,
      "outputs": []
    },
    {
      "cell_type": "code",
      "source": [
        "X_train=np.array([x.ravel() for x in X_train])\n",
        "X_test=np.array([x.ravel() for x in X_test])\n",
        "X_train.shape\n",
        "X_test.shape"
      ],
      "metadata": {
        "colab": {
          "base_uri": "https://localhost:8080/"
        },
        "id": "uX27eCvknEUJ",
        "outputId": "f6150466-7237-4ceb-e76d-bb382dfbae9c"
      },
      "execution_count": 6,
      "outputs": [
        {
          "output_type": "execute_result",
          "data": {
            "text/plain": [
              "(10000, 784)"
            ]
          },
          "metadata": {},
          "execution_count": 6
        }
      ]
    },
    {
      "cell_type": "code",
      "source": [
        "from sklearn.svm import SVC"
      ],
      "metadata": {
        "id": "xHEJuRUYlXZT"
      },
      "execution_count": 7,
      "outputs": []
    },
    {
      "cell_type": "code",
      "source": [
        "      \n",
        "for degree in range(1,6):\n",
        "    model=SVC(kernel=\"poly\",degree=degree)\n",
        "    model.fit(X_train,y_train)\n",
        "    print(f'kernel= poly & degree= {degree} score=  {model.score(X_test,y_test)}')"
      ],
      "metadata": {
        "id": "HDh4XaknT7RD",
        "outputId": "512f6d87-0857-47b8-a510-0d726ae80edb",
        "colab": {
          "base_uri": "https://localhost:8080/"
        }
      },
      "execution_count": 8,
      "outputs": [
        {
          "output_type": "stream",
          "name": "stdout",
          "text": [
            "kernel= poly & degree= 1 score=  0.9445\n",
            "kernel= poly & degree= 2 score=  0.9774\n",
            "kernel= poly & degree= 3 score=  0.9771\n",
            "kernel= poly & degree= 4 score=  0.9698\n",
            "kernel= poly & degree= 5 score=  0.9561\n"
          ]
        }
      ]
    },
    {
      "cell_type": "code",
      "source": [
        "kernels=[\"linear\", \"rbf\", \"sigmoid\"]\n",
        "\n",
        "for kernel in kernels:\n",
        "    model=SVC(kernel=kernel)\n",
        "    model.fit(X_train,y_train)\n",
        "    print(f'kernel= {kernel} score= {model.score(X_test,y_test)}')\n"
      ],
      "metadata": {
        "id": "JgTXuj5KCABy"
      },
      "execution_count": null,
      "outputs": []
    },
    {
      "cell_type": "code",
      "source": [
        "gammas=[\"scale\", \"auto\"]\n",
        "\n",
        "for gamma in gammas:\n",
        "  model=SVC(gamma=gamma)\n",
        "  model.fit(X_train,y_train)\n",
        "  print(f'gamma= {gamma} score= {model.score(X_test,y_test)}')\n"
      ],
      "metadata": {
        "colab": {
          "base_uri": "https://localhost:8080/"
        },
        "id": "e8QC8nc3lbba",
        "outputId": "df02b72b-6eab-4dc5-b970-a6f0a2bf18b8"
      },
      "execution_count": 10,
      "outputs": [
        {
          "output_type": "execute_result",
          "data": {
            "text/plain": [
              "SVC()"
            ]
          },
          "metadata": {},
          "execution_count": 10
        }
      ]
    },
    {
      "cell_type": "code",
      "source": [
        "predict=model.predict(X_test)"
      ],
      "metadata": {
        "id": "6SzCDyULqAqR"
      },
      "execution_count": 12,
      "outputs": []
    },
    {
      "cell_type": "code",
      "source": [
        "import cv2"
      ],
      "metadata": {
        "id": "r8yleLMbrv7I"
      },
      "execution_count": 15,
      "outputs": []
    },
    {
      "cell_type": "code",
      "source": [
        "img=cv2.imread(\"/content/digits/2.png\",0)\n",
        "plt.imshow(img)"
      ],
      "metadata": {
        "colab": {
          "base_uri": "https://localhost:8080/",
          "height": 282
        },
        "id": "hrBZENIepipw",
        "outputId": "406ebe2a-e689-44f3-edfc-c62a7f62c8bf"
      },
      "execution_count": 63,
      "outputs": [
        {
          "output_type": "execute_result",
          "data": {
            "text/plain": [
              "<matplotlib.image.AxesImage at 0x7f9c08c826a0>"
            ]
          },
          "metadata": {},
          "execution_count": 63
        },
        {
          "output_type": "display_data",
          "data": {
            "text/plain": [
              "<Figure size 432x288 with 1 Axes>"
            ],
            "image/png": "[encoded data removed]"
          },
          "metadata": {
            "needs_background": "light"
          }
        }
      ]
    },
    {
      "cell_type": "code",
      "source": [
        "img=img.reshape(X_train[1].shape)\n",
        "img=img.reshape(1,-1)\n",
        "img.shape\n"
      ],
      "metadata": {
        "colab": {
          "base_uri": "https://localhost:8080/"
        },
        "id": "-Dd7zaIMso_3",
        "outputId": "c961323a-e3f5-4b26-9e83-4a0b0f3d92ea"
      },
      "execution_count": 64,
      "outputs": [
        {
          "output_type": "execute_result",
          "data": {
            "text/plain": [
              "(1, 784)"
            ]
          },
          "metadata": {},
          "execution_count": 64
        }
      ]
    },
    {
      "cell_type": "code",
      "source": [
        "test=model.predict(img)\n",
        "print(test)"
      ],
      "metadata": {
        "colab": {
          "base_uri": "https://localhost:8080/"
        },
        "id": "kgIaG_H0u3MS",
        "outputId": "18bee5a1-9f53-4586-a6a9-31d95987f5fa"
      },
      "execution_count": 65,
      "outputs": [
        {
          "output_type": "stream",
          "name": "stdout",
          "text": [
            "[2]\n"
          ]
        }
      ]
    },
    {
      "cell_type": "code",
      "source": [
        "import pickle\n"
      ],
      "metadata": {
        "id": "D_NtJFuGxRG8"
      },
      "execution_count": 67,
      "outputs": []
    },
    {
      "cell_type": "code",
      "source": [
        "file=open(\"/content/model.dat\",\"wb\")\n",
        "pickle.dump(model,file)\n",
        "file.close"
      ],
      "metadata": {
        "colab": {
          "base_uri": "https://localhost:8080/"
        },
        "id": "JpqvAAnrx0_j",
        "outputId": "2465a1ed-070a-4823-afe2-14077e01039d"
      },
      "execution_count": 71,
      "outputs": [
        {
          "output_type": "execute_result",
          "data": {
            "text/plain": [
              "<function BufferedWriter.close>"
            ]
          },
          "metadata": {},
          "execution_count": 71
        }
      ]
    }
  ],
  "metadata": {
    "colab": {
      "name": "Welcome To Colaboratory",
      "provenance": []
    },
    "kernelspec": {
      "display_name": "Python 3",
      "name": "python3"
    }
  },
  "nbformat": 4,
  "nbformat_minor": 0
}